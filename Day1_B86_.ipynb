print("Hello all welcome to python programming world")
2.	git checkout -b feature-branch
4.	echo "New feature" > feature.txt
5.	git add .
6.	git commit -m "Added new feature"
8.	git push origin feature-branch
10.	git checkout master
11.	git pull origin master
12.	git merge feature-branch
13.	Push changes to master 
14.	git push origin master
15.	Delete the feature branch (optional) 
16.	git branch -d feature-branch
17.	git push origin --delete feature-branch
        push pull and other commands push pull and other commands push pull and other commands push pull and other commands push pull and other commands 
**this is bold**
